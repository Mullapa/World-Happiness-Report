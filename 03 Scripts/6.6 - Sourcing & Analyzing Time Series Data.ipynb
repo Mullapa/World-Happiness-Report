{
 "cells": [
  {
   "cell_type": "code",
   "execution_count": 478,
   "id": "e9788b64",
   "metadata": {},
   "outputs": [],
   "source": [
    "import numpy as np\n",
    "import pandas as pd\n",
    "import matplotlib.pyplot as plt\n",
    "import seaborn as sns\n",
    "import os\n",
    "import sklearn\n",
    "from sklearn.cluster import KMeans\n",
    "import pylab as pl\n",
    "import statsmodels.api as sm"
   ]
  },
  {
   "cell_type": "code",
   "execution_count": 479,
   "id": "6dd23e86",
   "metadata": {},
   "outputs": [],
   "source": [
    "path = r'C:\\Users\\Ananya\\Documents\\World Happiness Report'"
   ]
  },
  {
   "cell_type": "code",
   "execution_count": 480,
   "id": "98ca33a4",
   "metadata": {},
   "outputs": [],
   "source": [
    "report = pd.read_csv(os.path.join(path,'02 Data', 'Original Data', 'overall.csv'))"
   ]
  },
  {
   "cell_type": "markdown",
   "id": "fb928c8d",
   "metadata": {},
   "source": [
    "# Step 3 - Subset of data"
   ]
  },
  {
   "cell_type": "code",
   "execution_count": 481,
   "id": "c11e52fe",
   "metadata": {},
   "outputs": [
    {
     "data": {
      "text/html": [
       "<div>\n",
       "<style scoped>\n",
       "    .dataframe tbody tr th:only-of-type {\n",
       "        vertical-align: middle;\n",
       "    }\n",
       "\n",
       "    .dataframe tbody tr th {\n",
       "        vertical-align: top;\n",
       "    }\n",
       "\n",
       "    .dataframe thead th {\n",
       "        text-align: right;\n",
       "    }\n",
       "</style>\n",
       "<table border=\"1\" class=\"dataframe\">\n",
       "  <thead>\n",
       "    <tr style=\"text-align: right;\">\n",
       "      <th></th>\n",
       "      <th>Date</th>\n",
       "      <th>Year</th>\n",
       "      <th>RANK</th>\n",
       "      <th>Country</th>\n",
       "      <th>Region</th>\n",
       "      <th>Happiness score</th>\n",
       "      <th>Explained by: GDP per capita</th>\n",
       "      <th>Explained by: Social support</th>\n",
       "      <th>Explained by: Healthy life expectancy</th>\n",
       "      <th>Explained by: Freedom to make life choices</th>\n",
       "      <th>Explained by: Generosity</th>\n",
       "      <th>Explained by: Perceptions of corruption</th>\n",
       "    </tr>\n",
       "  </thead>\n",
       "  <tbody>\n",
       "    <tr>\n",
       "      <th>0</th>\n",
       "      <td>12/31/2022</td>\n",
       "      <td>2022</td>\n",
       "      <td>146</td>\n",
       "      <td>Afghanistan</td>\n",
       "      <td>Southern Asia</td>\n",
       "      <td>2.404</td>\n",
       "      <td>0.758</td>\n",
       "      <td>0.000</td>\n",
       "      <td>0.289</td>\n",
       "      <td>0.000</td>\n",
       "      <td>0.089</td>\n",
       "      <td>0.005</td>\n",
       "    </tr>\n",
       "    <tr>\n",
       "      <th>1</th>\n",
       "      <td>12/31/2022</td>\n",
       "      <td>2022</td>\n",
       "      <td>90</td>\n",
       "      <td>Albania</td>\n",
       "      <td>Central and Eastern Europe</td>\n",
       "      <td>5.199</td>\n",
       "      <td>1.439</td>\n",
       "      <td>0.646</td>\n",
       "      <td>0.719</td>\n",
       "      <td>0.511</td>\n",
       "      <td>0.138</td>\n",
       "      <td>0.028</td>\n",
       "    </tr>\n",
       "    <tr>\n",
       "      <th>2</th>\n",
       "      <td>12/31/2022</td>\n",
       "      <td>2022</td>\n",
       "      <td>96</td>\n",
       "      <td>Algeria</td>\n",
       "      <td>Middle East and Northern Africa</td>\n",
       "      <td>5.122</td>\n",
       "      <td>1.363</td>\n",
       "      <td>0.970</td>\n",
       "      <td>0.643</td>\n",
       "      <td>0.146</td>\n",
       "      <td>0.106</td>\n",
       "      <td>0.150</td>\n",
       "    </tr>\n",
       "    <tr>\n",
       "      <th>3</th>\n",
       "      <td>12/31/2022</td>\n",
       "      <td>2022</td>\n",
       "      <td>57</td>\n",
       "      <td>Argentina</td>\n",
       "      <td>Latin America and Caribbean</td>\n",
       "      <td>5.967</td>\n",
       "      <td>1.592</td>\n",
       "      <td>1.102</td>\n",
       "      <td>0.662</td>\n",
       "      <td>0.555</td>\n",
       "      <td>0.081</td>\n",
       "      <td>0.085</td>\n",
       "    </tr>\n",
       "    <tr>\n",
       "      <th>4</th>\n",
       "      <td>12/31/2022</td>\n",
       "      <td>2022</td>\n",
       "      <td>82</td>\n",
       "      <td>Armenia</td>\n",
       "      <td>Central and Eastern Europe</td>\n",
       "      <td>5.399</td>\n",
       "      <td>1.434</td>\n",
       "      <td>0.820</td>\n",
       "      <td>0.668</td>\n",
       "      <td>0.558</td>\n",
       "      <td>0.054</td>\n",
       "      <td>0.210</td>\n",
       "    </tr>\n",
       "  </tbody>\n",
       "</table>\n",
       "</div>"
      ],
      "text/plain": [
       "         Date  Year  RANK      Country                           Region  \\\n",
       "0  12/31/2022  2022   146  Afghanistan                    Southern Asia   \n",
       "1  12/31/2022  2022    90      Albania       Central and Eastern Europe   \n",
       "2  12/31/2022  2022    96      Algeria  Middle East and Northern Africa   \n",
       "3  12/31/2022  2022    57    Argentina      Latin America and Caribbean   \n",
       "4  12/31/2022  2022    82      Armenia       Central and Eastern Europe   \n",
       "\n",
       "   Happiness score  Explained by: GDP per capita  \\\n",
       "0            2.404                         0.758   \n",
       "1            5.199                         1.439   \n",
       "2            5.122                         1.363   \n",
       "3            5.967                         1.592   \n",
       "4            5.399                         1.434   \n",
       "\n",
       "   Explained by: Social support  Explained by: Healthy life expectancy  \\\n",
       "0                         0.000                                  0.289   \n",
       "1                         0.646                                  0.719   \n",
       "2                         0.970                                  0.643   \n",
       "3                         1.102                                  0.662   \n",
       "4                         0.820                                  0.668   \n",
       "\n",
       "   Explained by: Freedom to make life choices  Explained by: Generosity  \\\n",
       "0                                       0.000                     0.089   \n",
       "1                                       0.511                     0.138   \n",
       "2                                       0.146                     0.106   \n",
       "3                                       0.555                     0.081   \n",
       "4                                       0.558                     0.054   \n",
       "\n",
       "   Explained by: Perceptions of corruption  \n",
       "0                                    0.005  \n",
       "1                                    0.028  \n",
       "2                                    0.150  \n",
       "3                                    0.085  \n",
       "4                                    0.210  "
      ]
     },
     "execution_count": 481,
     "metadata": {},
     "output_type": "execute_result"
    }
   ],
   "source": [
    "report.head()"
   ]
  },
  {
   "cell_type": "code",
   "execution_count": 482,
   "id": "e5f4b616",
   "metadata": {},
   "outputs": [
    {
     "data": {
      "text/plain": [
       "Index(['Date', 'Year', 'RANK', 'Country', 'Region', 'Happiness score',\n",
       "       'Explained by: GDP per capita', 'Explained by: Social support',\n",
       "       'Explained by: Healthy life expectancy',\n",
       "       'Explained by: Freedom to make life choices',\n",
       "       'Explained by: Generosity', 'Explained by: Perceptions of corruption'],\n",
       "      dtype='object')"
      ]
     },
     "execution_count": 482,
     "metadata": {},
     "output_type": "execute_result"
    }
   ],
   "source": [
    "report.columns"
   ]
  },
  {
   "cell_type": "code",
   "execution_count": 483,
   "id": "65284959",
   "metadata": {},
   "outputs": [],
   "source": [
    "report_selected = report[['Year', 'Happiness score']]"
   ]
  },
  {
   "cell_type": "code",
   "execution_count": 484,
   "id": "6a35fec0",
   "metadata": {},
   "outputs": [
    {
     "data": {
      "text/html": [
       "<div>\n",
       "<style scoped>\n",
       "    .dataframe tbody tr th:only-of-type {\n",
       "        vertical-align: middle;\n",
       "    }\n",
       "\n",
       "    .dataframe tbody tr th {\n",
       "        vertical-align: top;\n",
       "    }\n",
       "\n",
       "    .dataframe thead th {\n",
       "        text-align: right;\n",
       "    }\n",
       "</style>\n",
       "<table border=\"1\" class=\"dataframe\">\n",
       "  <thead>\n",
       "    <tr style=\"text-align: right;\">\n",
       "      <th></th>\n",
       "      <th>Year</th>\n",
       "      <th>Happiness score</th>\n",
       "    </tr>\n",
       "  </thead>\n",
       "  <tbody>\n",
       "    <tr>\n",
       "      <th>0</th>\n",
       "      <td>2022</td>\n",
       "      <td>2.404</td>\n",
       "    </tr>\n",
       "    <tr>\n",
       "      <th>1</th>\n",
       "      <td>2022</td>\n",
       "      <td>5.199</td>\n",
       "    </tr>\n",
       "    <tr>\n",
       "      <th>2</th>\n",
       "      <td>2022</td>\n",
       "      <td>5.122</td>\n",
       "    </tr>\n",
       "    <tr>\n",
       "      <th>3</th>\n",
       "      <td>2022</td>\n",
       "      <td>5.967</td>\n",
       "    </tr>\n",
       "    <tr>\n",
       "      <th>4</th>\n",
       "      <td>2022</td>\n",
       "      <td>5.399</td>\n",
       "    </tr>\n",
       "  </tbody>\n",
       "</table>\n",
       "</div>"
      ],
      "text/plain": [
       "   Year  Happiness score\n",
       "0  2022            2.404\n",
       "1  2022            5.199\n",
       "2  2022            5.122\n",
       "3  2022            5.967\n",
       "4  2022            5.399"
      ]
     },
     "execution_count": 484,
     "metadata": {},
     "output_type": "execute_result"
    }
   ],
   "source": [
    "report_selected.head()"
   ]
  },
  {
   "cell_type": "code",
   "execution_count": 485,
   "id": "49b26c43",
   "metadata": {},
   "outputs": [
    {
     "data": {
      "text/plain": [
       "Index(['Year', 'Happiness score'], dtype='object')"
      ]
     },
     "execution_count": 485,
     "metadata": {},
     "output_type": "execute_result"
    }
   ],
   "source": [
    "report_selected.columns"
   ]
  },
  {
   "cell_type": "markdown",
   "id": "0457c757",
   "metadata": {},
   "source": [
    "# Step 4 - Create a linechart"
   ]
  },
  {
   "cell_type": "code",
   "execution_count": 486,
   "id": "891b0131",
   "metadata": {},
   "outputs": [],
   "source": [
    "report_selected.set_index('Year', inplace=True)"
   ]
  },
  {
   "cell_type": "code",
   "execution_count": 487,
   "id": "99890842",
   "metadata": {},
   "outputs": [],
   "source": [
    "# Calculate yearly happiness\n",
    "yearly_happiness = report_selected.groupby(report_selected.index)['Happiness score'].mean().rename(\"Happiness score\")\n"
   ]
  },
  {
   "cell_type": "code",
   "execution_count": 488,
   "id": "adb7c667",
   "metadata": {},
   "outputs": [
    {
     "data": {
      "text/plain": [
       "Year\n",
       "2015    5.375734\n",
       "2016    5.382185\n",
       "2017    5.354019\n",
       "2018    5.375917\n",
       "2019    5.407096\n",
       "2020    5.473240\n",
       "2021    5.532839\n",
       "2022    5.553575\n",
       "Name: Happiness score, dtype: float64"
      ]
     },
     "execution_count": 488,
     "metadata": {},
     "output_type": "execute_result"
    }
   ],
   "source": [
    "yearly_happiness"
   ]
  },
  {
   "cell_type": "code",
   "execution_count": 489,
   "id": "8feb0d6c",
   "metadata": {},
   "outputs": [],
   "source": [
    "yearly_happiness = yearly_happiness.reset_index()"
   ]
  },
  {
   "cell_type": "code",
   "execution_count": 490,
   "id": "646d23d6",
   "metadata": {},
   "outputs": [
    {
     "data": {
      "text/html": [
       "<div>\n",
       "<style scoped>\n",
       "    .dataframe tbody tr th:only-of-type {\n",
       "        vertical-align: middle;\n",
       "    }\n",
       "\n",
       "    .dataframe tbody tr th {\n",
       "        vertical-align: top;\n",
       "    }\n",
       "\n",
       "    .dataframe thead th {\n",
       "        text-align: right;\n",
       "    }\n",
       "</style>\n",
       "<table border=\"1\" class=\"dataframe\">\n",
       "  <thead>\n",
       "    <tr style=\"text-align: right;\">\n",
       "      <th></th>\n",
       "      <th>Year</th>\n",
       "      <th>Happiness score</th>\n",
       "    </tr>\n",
       "  </thead>\n",
       "  <tbody>\n",
       "    <tr>\n",
       "      <th>0</th>\n",
       "      <td>2015</td>\n",
       "      <td>5.375734</td>\n",
       "    </tr>\n",
       "    <tr>\n",
       "      <th>1</th>\n",
       "      <td>2016</td>\n",
       "      <td>5.382185</td>\n",
       "    </tr>\n",
       "    <tr>\n",
       "      <th>2</th>\n",
       "      <td>2017</td>\n",
       "      <td>5.354019</td>\n",
       "    </tr>\n",
       "    <tr>\n",
       "      <th>3</th>\n",
       "      <td>2018</td>\n",
       "      <td>5.375917</td>\n",
       "    </tr>\n",
       "    <tr>\n",
       "      <th>4</th>\n",
       "      <td>2019</td>\n",
       "      <td>5.407096</td>\n",
       "    </tr>\n",
       "    <tr>\n",
       "      <th>5</th>\n",
       "      <td>2020</td>\n",
       "      <td>5.473240</td>\n",
       "    </tr>\n",
       "    <tr>\n",
       "      <th>6</th>\n",
       "      <td>2021</td>\n",
       "      <td>5.532839</td>\n",
       "    </tr>\n",
       "    <tr>\n",
       "      <th>7</th>\n",
       "      <td>2022</td>\n",
       "      <td>5.553575</td>\n",
       "    </tr>\n",
       "  </tbody>\n",
       "</table>\n",
       "</div>"
      ],
      "text/plain": [
       "   Year  Happiness score\n",
       "0  2015         5.375734\n",
       "1  2016         5.382185\n",
       "2  2017         5.354019\n",
       "3  2018         5.375917\n",
       "4  2019         5.407096\n",
       "5  2020         5.473240\n",
       "6  2021         5.532839\n",
       "7  2022         5.553575"
      ]
     },
     "execution_count": 490,
     "metadata": {},
     "output_type": "execute_result"
    }
   ],
   "source": [
    "yearly_happiness"
   ]
  },
  {
   "cell_type": "code",
   "execution_count": 491,
   "id": "7d113151",
   "metadata": {},
   "outputs": [],
   "source": [
    "yearly_happiness['Date'] = pd.to_datetime(yearly_happiness['Year'], format='%Y')"
   ]
  },
  {
   "cell_type": "code",
   "execution_count": 492,
   "id": "e1a48273",
   "metadata": {},
   "outputs": [
    {
     "data": {
      "text/html": [
       "<div>\n",
       "<style scoped>\n",
       "    .dataframe tbody tr th:only-of-type {\n",
       "        vertical-align: middle;\n",
       "    }\n",
       "\n",
       "    .dataframe tbody tr th {\n",
       "        vertical-align: top;\n",
       "    }\n",
       "\n",
       "    .dataframe thead th {\n",
       "        text-align: right;\n",
       "    }\n",
       "</style>\n",
       "<table border=\"1\" class=\"dataframe\">\n",
       "  <thead>\n",
       "    <tr style=\"text-align: right;\">\n",
       "      <th></th>\n",
       "      <th>Year</th>\n",
       "      <th>Happiness score</th>\n",
       "      <th>Date</th>\n",
       "    </tr>\n",
       "  </thead>\n",
       "  <tbody>\n",
       "    <tr>\n",
       "      <th>0</th>\n",
       "      <td>2015</td>\n",
       "      <td>5.375734</td>\n",
       "      <td>2015-01-01</td>\n",
       "    </tr>\n",
       "    <tr>\n",
       "      <th>1</th>\n",
       "      <td>2016</td>\n",
       "      <td>5.382185</td>\n",
       "      <td>2016-01-01</td>\n",
       "    </tr>\n",
       "    <tr>\n",
       "      <th>2</th>\n",
       "      <td>2017</td>\n",
       "      <td>5.354019</td>\n",
       "      <td>2017-01-01</td>\n",
       "    </tr>\n",
       "    <tr>\n",
       "      <th>3</th>\n",
       "      <td>2018</td>\n",
       "      <td>5.375917</td>\n",
       "      <td>2018-01-01</td>\n",
       "    </tr>\n",
       "    <tr>\n",
       "      <th>4</th>\n",
       "      <td>2019</td>\n",
       "      <td>5.407096</td>\n",
       "      <td>2019-01-01</td>\n",
       "    </tr>\n",
       "    <tr>\n",
       "      <th>5</th>\n",
       "      <td>2020</td>\n",
       "      <td>5.473240</td>\n",
       "      <td>2020-01-01</td>\n",
       "    </tr>\n",
       "    <tr>\n",
       "      <th>6</th>\n",
       "      <td>2021</td>\n",
       "      <td>5.532839</td>\n",
       "      <td>2021-01-01</td>\n",
       "    </tr>\n",
       "    <tr>\n",
       "      <th>7</th>\n",
       "      <td>2022</td>\n",
       "      <td>5.553575</td>\n",
       "      <td>2022-01-01</td>\n",
       "    </tr>\n",
       "  </tbody>\n",
       "</table>\n",
       "</div>"
      ],
      "text/plain": [
       "   Year  Happiness score       Date\n",
       "0  2015         5.375734 2015-01-01\n",
       "1  2016         5.382185 2016-01-01\n",
       "2  2017         5.354019 2017-01-01\n",
       "3  2018         5.375917 2018-01-01\n",
       "4  2019         5.407096 2019-01-01\n",
       "5  2020         5.473240 2020-01-01\n",
       "6  2021         5.532839 2021-01-01\n",
       "7  2022         5.553575 2022-01-01"
      ]
     },
     "execution_count": 492,
     "metadata": {},
     "output_type": "execute_result"
    }
   ],
   "source": [
    "yearly_happiness"
   ]
  },
  {
   "cell_type": "code",
   "execution_count": 493,
   "id": "265c733e",
   "metadata": {},
   "outputs": [],
   "source": [
    "# Set the 'Date' column as the index\n",
    "yearly_happiness.set_index('Date', inplace=True)"
   ]
  },
  {
   "cell_type": "code",
   "execution_count": 494,
   "id": "ab84e0de",
   "metadata": {},
   "outputs": [
    {
     "data": {
      "text/html": [
       "<div>\n",
       "<style scoped>\n",
       "    .dataframe tbody tr th:only-of-type {\n",
       "        vertical-align: middle;\n",
       "    }\n",
       "\n",
       "    .dataframe tbody tr th {\n",
       "        vertical-align: top;\n",
       "    }\n",
       "\n",
       "    .dataframe thead th {\n",
       "        text-align: right;\n",
       "    }\n",
       "</style>\n",
       "<table border=\"1\" class=\"dataframe\">\n",
       "  <thead>\n",
       "    <tr style=\"text-align: right;\">\n",
       "      <th></th>\n",
       "      <th>Year</th>\n",
       "      <th>Happiness score</th>\n",
       "    </tr>\n",
       "    <tr>\n",
       "      <th>Date</th>\n",
       "      <th></th>\n",
       "      <th></th>\n",
       "    </tr>\n",
       "  </thead>\n",
       "  <tbody>\n",
       "    <tr>\n",
       "      <th>2015-01-01</th>\n",
       "      <td>2015</td>\n",
       "      <td>5.375734</td>\n",
       "    </tr>\n",
       "    <tr>\n",
       "      <th>2016-01-01</th>\n",
       "      <td>2016</td>\n",
       "      <td>5.382185</td>\n",
       "    </tr>\n",
       "    <tr>\n",
       "      <th>2017-01-01</th>\n",
       "      <td>2017</td>\n",
       "      <td>5.354019</td>\n",
       "    </tr>\n",
       "    <tr>\n",
       "      <th>2018-01-01</th>\n",
       "      <td>2018</td>\n",
       "      <td>5.375917</td>\n",
       "    </tr>\n",
       "    <tr>\n",
       "      <th>2019-01-01</th>\n",
       "      <td>2019</td>\n",
       "      <td>5.407096</td>\n",
       "    </tr>\n",
       "    <tr>\n",
       "      <th>2020-01-01</th>\n",
       "      <td>2020</td>\n",
       "      <td>5.473240</td>\n",
       "    </tr>\n",
       "    <tr>\n",
       "      <th>2021-01-01</th>\n",
       "      <td>2021</td>\n",
       "      <td>5.532839</td>\n",
       "    </tr>\n",
       "    <tr>\n",
       "      <th>2022-01-01</th>\n",
       "      <td>2022</td>\n",
       "      <td>5.553575</td>\n",
       "    </tr>\n",
       "  </tbody>\n",
       "</table>\n",
       "</div>"
      ],
      "text/plain": [
       "            Year  Happiness score\n",
       "Date                             \n",
       "2015-01-01  2015         5.375734\n",
       "2016-01-01  2016         5.382185\n",
       "2017-01-01  2017         5.354019\n",
       "2018-01-01  2018         5.375917\n",
       "2019-01-01  2019         5.407096\n",
       "2020-01-01  2020         5.473240\n",
       "2021-01-01  2021         5.532839\n",
       "2022-01-01  2022         5.553575"
      ]
     },
     "execution_count": 494,
     "metadata": {},
     "output_type": "execute_result"
    }
   ],
   "source": [
    "yearly_happiness"
   ]
  },
  {
   "cell_type": "code",
   "execution_count": 495,
   "id": "2882c0e0",
   "metadata": {},
   "outputs": [],
   "source": [
    "# Drop the 'Year' column (optional)\n",
    "yearly_happiness.drop(columns=['Year'], inplace=True)"
   ]
  },
  {
   "cell_type": "code",
   "execution_count": 496,
   "id": "38f74332",
   "metadata": {},
   "outputs": [
    {
     "data": {
      "text/html": [
       "<div>\n",
       "<style scoped>\n",
       "    .dataframe tbody tr th:only-of-type {\n",
       "        vertical-align: middle;\n",
       "    }\n",
       "\n",
       "    .dataframe tbody tr th {\n",
       "        vertical-align: top;\n",
       "    }\n",
       "\n",
       "    .dataframe thead th {\n",
       "        text-align: right;\n",
       "    }\n",
       "</style>\n",
       "<table border=\"1\" class=\"dataframe\">\n",
       "  <thead>\n",
       "    <tr style=\"text-align: right;\">\n",
       "      <th></th>\n",
       "      <th>Happiness score</th>\n",
       "    </tr>\n",
       "    <tr>\n",
       "      <th>Date</th>\n",
       "      <th></th>\n",
       "    </tr>\n",
       "  </thead>\n",
       "  <tbody>\n",
       "    <tr>\n",
       "      <th>2015-01-01</th>\n",
       "      <td>5.375734</td>\n",
       "    </tr>\n",
       "    <tr>\n",
       "      <th>2016-01-01</th>\n",
       "      <td>5.382185</td>\n",
       "    </tr>\n",
       "    <tr>\n",
       "      <th>2017-01-01</th>\n",
       "      <td>5.354019</td>\n",
       "    </tr>\n",
       "    <tr>\n",
       "      <th>2018-01-01</th>\n",
       "      <td>5.375917</td>\n",
       "    </tr>\n",
       "    <tr>\n",
       "      <th>2019-01-01</th>\n",
       "      <td>5.407096</td>\n",
       "    </tr>\n",
       "    <tr>\n",
       "      <th>2020-01-01</th>\n",
       "      <td>5.473240</td>\n",
       "    </tr>\n",
       "    <tr>\n",
       "      <th>2021-01-01</th>\n",
       "      <td>5.532839</td>\n",
       "    </tr>\n",
       "    <tr>\n",
       "      <th>2022-01-01</th>\n",
       "      <td>5.553575</td>\n",
       "    </tr>\n",
       "  </tbody>\n",
       "</table>\n",
       "</div>"
      ],
      "text/plain": [
       "            Happiness score\n",
       "Date                       \n",
       "2015-01-01         5.375734\n",
       "2016-01-01         5.382185\n",
       "2017-01-01         5.354019\n",
       "2018-01-01         5.375917\n",
       "2019-01-01         5.407096\n",
       "2020-01-01         5.473240\n",
       "2021-01-01         5.532839\n",
       "2022-01-01         5.553575"
      ]
     },
     "execution_count": 496,
     "metadata": {},
     "output_type": "execute_result"
    }
   ],
   "source": [
    "yearly_happiness"
   ]
  },
  {
   "cell_type": "code",
   "execution_count": 497,
   "id": "3fbabe2a",
   "metadata": {},
   "outputs": [
    {
     "data": {
      "text/plain": [
       "[<matplotlib.lines.Line2D at 0x14f348e0990>]"
      ]
     },
     "execution_count": 497,
     "metadata": {},
     "output_type": "execute_result"
    },
    {
     "data": {
      "image/png": "[encoded data removed]",
      "text/plain": [
       "<Figure size 1500x500 with 1 Axes>"
      ]
     },
     "metadata": {},
     "output_type": "display_data"
    }
   ],
   "source": [
    "plt.figure(figsize=(15,5), dpi=100) \n",
    "\n",
    "plt.plot(yearly_happiness)"
   ]
  },
  {
   "cell_type": "markdown",
   "id": "fc1bb9ea",
   "metadata": {},
   "source": [
    "# Step 5: Decompose the data’s components"
   ]
  },
  {
   "cell_type": "code",
   "execution_count": 498,
   "id": "06d65707",
   "metadata": {},
   "outputs": [],
   "source": [
    "# Decompose time series using additive model\n",
    "decomposition = sm.tsa.seasonal_decompose(yearly_happiness, model='additive', period=1)"
   ]
  },
  {
   "cell_type": "code",
   "execution_count": 499,
   "id": "f0ec6fbe",
   "metadata": {},
   "outputs": [],
   "source": [
    "# Define fixed size for all charts\n",
    "from pylab import rcParams \n",
    "rcParams['figure.figsize'] = 10, 8"
   ]
  },
  {
   "cell_type": "code",
   "execution_count": 500,
   "id": "54e0b715",
   "metadata": {},
   "outputs": [
    {
     "data": {
      "image/png": "[encoded data removed]",
      "text/plain": [
       "<Figure size 1000x800 with 4 Axes>"
      ]
     },
     "metadata": {},
     "output_type": "display_data"
    }
   ],
   "source": [
    "# Plot separate components\n",
    "decomposition.plot()\n",
    "plt.show()"
   ]
  },
  {
   "cell_type": "markdown",
   "id": "ef5d044e",
   "metadata": {},
   "source": [
    "# Step 6: Dickey-Fuller test"
   ]
  },
  {
   "cell_type": "code",
   "execution_count": 501,
   "id": "c632e85d",
   "metadata": {},
   "outputs": [
    {
     "name": "stdout",
     "output_type": "stream",
     "text": [
      "Dickey-Fuller Stationarity test:\n",
      "Test Statistic                -1.183196e+01\n",
      "p-value                        7.952465e-22\n",
      "Number of Lags Used            2.000000e+00\n",
      "Number of Observations Used    5.000000e+00\n",
      "Critical Value (1%)           -6.045114e+00\n",
      "Critical Value (5%)           -3.929280e+00\n",
      "Critical Value (10%)          -2.986810e+00\n",
      "dtype: float64\n"
     ]
    }
   ],
   "source": [
    "# Import the adfuller() function\n",
    "from statsmodels.tsa.stattools import adfuller \n",
    "\n",
    "# Define the function\n",
    "def dickey_fuller(timeseries): \n",
    "    \n",
    "    # Perform the Dickey-Fuller test:\n",
    "    print ('Dickey-Fuller Stationarity test:')\n",
    "    test = adfuller(timeseries, autolag='AIC')\n",
    "    result = pd.Series(test[0:4], index=['Test Statistic','p-value','Number of Lags Used','Number of Observations Used'])\n",
    "    for key,value in test[4].items():\n",
    "       result['Critical Value (%s)'%key] = value\n",
    "    print (result)\n",
    "\n",
    "# Apply the test using the function on the time series\n",
    "dickey_fuller(yearly_happiness['Happiness score'])"
   ]
  },
  {
   "cell_type": "markdown",
   "id": "768a1c2f",
   "metadata": {},
   "source": [
    "As the test statistic is greater than the critical value, data may need to be stationarized."
   ]
  },
  {
   "cell_type": "code",
   "execution_count": 502,
   "id": "4f237667",
   "metadata": {},
   "outputs": [
    {
     "data": {
      "image/png": "[encoded data removed]",
      "text/plain": [
       "<Figure size 1000x800 with 1 Axes>"
      ]
     },
     "metadata": {},
     "output_type": "display_data"
    }
   ],
   "source": [
    "# Plot of autocorrelations\n",
    "\n",
    "from statsmodels.graphics.tsaplots import plot_acf, plot_pacf \n",
    "plot_acf(yearly_happiness)\n",
    "plt.show()"
   ]
  },
  {
   "cell_type": "markdown",
   "id": "bf3b0f8a",
   "metadata": {},
   "source": [
    "# Step 7 - Round of differencing"
   ]
  },
  {
   "cell_type": "code",
   "execution_count": 503,
   "id": "6039a9ae",
   "metadata": {},
   "outputs": [],
   "source": [
    "data_diff = yearly_happiness - yearly_happiness.shift(1) "
   ]
  },
  {
   "cell_type": "code",
   "execution_count": 504,
   "id": "7db05f4c",
   "metadata": {},
   "outputs": [],
   "source": [
    "# Remove missing values that come as a result of differencing\n",
    "data_diff.dropna(inplace = True)"
   ]
  },
  {
   "cell_type": "code",
   "execution_count": 505,
   "id": "900bb9c8",
   "metadata": {},
   "outputs": [
    {
     "data": {
      "text/html": [
       "<div>\n",
       "<style scoped>\n",
       "    .dataframe tbody tr th:only-of-type {\n",
       "        vertical-align: middle;\n",
       "    }\n",
       "\n",
       "    .dataframe tbody tr th {\n",
       "        vertical-align: top;\n",
       "    }\n",
       "\n",
       "    .dataframe thead th {\n",
       "        text-align: right;\n",
       "    }\n",
       "</style>\n",
       "<table border=\"1\" class=\"dataframe\">\n",
       "  <thead>\n",
       "    <tr style=\"text-align: right;\">\n",
       "      <th></th>\n",
       "      <th>Happiness score</th>\n",
       "    </tr>\n",
       "    <tr>\n",
       "      <th>Date</th>\n",
       "      <th></th>\n",
       "    </tr>\n",
       "  </thead>\n",
       "  <tbody>\n",
       "    <tr>\n",
       "      <th>2016-01-01</th>\n",
       "      <td>0.006451</td>\n",
       "    </tr>\n",
       "    <tr>\n",
       "      <th>2017-01-01</th>\n",
       "      <td>-0.028165</td>\n",
       "    </tr>\n",
       "    <tr>\n",
       "      <th>2018-01-01</th>\n",
       "      <td>0.021897</td>\n",
       "    </tr>\n",
       "    <tr>\n",
       "      <th>2019-01-01</th>\n",
       "      <td>0.031179</td>\n",
       "    </tr>\n",
       "    <tr>\n",
       "      <th>2020-01-01</th>\n",
       "      <td>0.066144</td>\n",
       "    </tr>\n",
       "    <tr>\n",
       "      <th>2021-01-01</th>\n",
       "      <td>0.059599</td>\n",
       "    </tr>\n",
       "    <tr>\n",
       "      <th>2022-01-01</th>\n",
       "      <td>0.020736</td>\n",
       "    </tr>\n",
       "  </tbody>\n",
       "</table>\n",
       "</div>"
      ],
      "text/plain": [
       "            Happiness score\n",
       "Date                       \n",
       "2016-01-01         0.006451\n",
       "2017-01-01        -0.028165\n",
       "2018-01-01         0.021897\n",
       "2019-01-01         0.031179\n",
       "2020-01-01         0.066144\n",
       "2021-01-01         0.059599\n",
       "2022-01-01         0.020736"
      ]
     },
     "execution_count": 505,
     "metadata": {},
     "output_type": "execute_result"
    }
   ],
   "source": [
    "data_diff"
   ]
  },
  {
   "cell_type": "code",
   "execution_count": 506,
   "id": "9dbcb36f",
   "metadata": {},
   "outputs": [
    {
     "data": {
      "text/plain": [
       "Index(['Happiness score'], dtype='object')"
      ]
     },
     "execution_count": 506,
     "metadata": {},
     "output_type": "execute_result"
    }
   ],
   "source": [
    "data_diff.columns"
   ]
  },
  {
   "cell_type": "code",
   "execution_count": 507,
   "id": "086df58f",
   "metadata": {},
   "outputs": [
    {
     "data": {
      "text/plain": [
       "[<matplotlib.lines.Line2D at 0x14f34f2ddd0>]"
      ]
     },
     "execution_count": 507,
     "metadata": {},
     "output_type": "execute_result"
    },
    {
     "data": {
      "image/png": "[encoded data removed]",
      "text/plain": [
       "<Figure size 1500x500 with 1 Axes>"
      ]
     },
     "metadata": {},
     "output_type": "display_data"
    }
   ],
   "source": [
    "# Check out what the differencing did to the time-series curve\n",
    "\n",
    "plt.figure(figsize=(15,5), dpi=100)\n",
    "plt.plot(data_diff)"
   ]
  },
  {
   "cell_type": "code",
   "execution_count": 508,
   "id": "0f27aab7",
   "metadata": {},
   "outputs": [
    {
     "name": "stdout",
     "output_type": "stream",
     "text": [
      "Dickey-Fuller Stationarity test:\n",
      "Test Statistic                -1.312326\n",
      "p-value                        0.623514\n",
      "Number of Lags Used            0.000000\n",
      "Number of Observations Used    6.000000\n",
      "Critical Value (1%)           -5.354256\n",
      "Critical Value (5%)           -3.646238\n",
      "Critical Value (10%)          -2.901198\n",
      "dtype: float64\n"
     ]
    }
   ],
   "source": [
    "dickey_fuller(data_diff)"
   ]
  },
  {
   "cell_type": "markdown",
   "id": "718fedbc",
   "metadata": {},
   "source": [
    "Test statistic is now closer to both the Critical Values 5% and 10% "
   ]
  },
  {
   "cell_type": "markdown",
   "id": "92ec8ecd",
   "metadata": {},
   "source": [
    "# Step 8 - Additional round of differencing is not required"
   ]
  },
  {
   "cell_type": "markdown",
   "id": "7a92ac7c",
   "metadata": {},
   "source": [
    "# Step 9 - Auto correlations"
   ]
  },
  {
   "cell_type": "code",
   "execution_count": 509,
   "id": "4344b66d",
   "metadata": {},
   "outputs": [
    {
     "data": {
      "image/png": "[encoded data removed]",
      "text/plain": [
       "<Figure size 1000x800 with 1 Axes>"
      ]
     },
     "metadata": {},
     "output_type": "display_data"
    }
   ],
   "source": [
    "plot_acf(data_diff)\n",
    "plt.show()"
   ]
  },
  {
   "cell_type": "code",
   "execution_count": null,
   "id": "eab19d1b",
   "metadata": {},
   "outputs": [],
   "source": []
  }
 ],
 "metadata": {
  "kernelspec": {
   "display_name": "Python 3 (ipykernel)",
   "language": "python",
   "name": "python3"
  },
  "language_info": {
   "codemirror_mode": {
    "name": "ipython",
    "version": 3
   },
   "file_extension": ".py",
   "mimetype": "text/x-python",
   "name": "python",
   "nbconvert_exporter": "python",
   "pygments_lexer": "ipython3",
   "version": "3.11.5"
  }
 },
 "nbformat": 4,
 "nbformat_minor": 5
}
