{
 "cells": [
  {
   "cell_type": "code",
   "execution_count": 84,
   "id": "56cc97b8",
   "metadata": {},
   "outputs": [],
   "source": [
    "import numpy as np\n",
    "import pandas as pd\n",
    "import matplotlib.pyplot as plt\n",
    "import seaborn as sns\n",
    "import os\n",
    "import folium\n",
    "import json"
   ]
  },
  {
   "cell_type": "code",
   "execution_count": 85,
   "id": "2e921309",
   "metadata": {},
   "outputs": [],
   "source": [
    "path = r'C:\\Users\\Ananya\\Documents\\World Happiness Report'\n",
    "json_file_path = os.path.join(path, '02 Data', 'Original Data', 'world-countries.json')"
   ]
  },
  {
   "cell_type": "code",
   "execution_count": 86,
   "id": "3d47cacb",
   "metadata": {},
   "outputs": [],
   "source": [
    "report_2022 = pd.read_csv(os.path.join(path,'02 Data', 'Prepared Data', '2022.csv'))"
   ]
  },
  {
   "cell_type": "code",
   "execution_count": 87,
   "id": "379ea613",
   "metadata": {},
   "outputs": [],
   "source": [
    "try:\n",
    "    with open(json_file_path, \"r\") as json_file:\n",
    "        geo_json_data = json.load(json_file)\n",
    "except FileNotFoundError:\n",
    "    print(\"File not found:\", file_path)\n",
    "except json.decoder.JSONDecodeError:\n",
    "    print(\"Invalid JSON format in file:\", file_path)\n",
    "except PermissionError:\n",
    "    print(\"Permission denied to read file:\", file_path)"
   ]
  },
  {
   "cell_type": "code",
   "execution_count": 88,
   "id": "26d82f99",
   "metadata": {},
   "outputs": [],
   "source": [
    "map = folium.Map(location = [40, -95], zoom_start = 4)\n",
    "\n",
    "folium.Choropleth(\n",
    "    geo_data = geo_json_data, \n",
    "    data = report_2022,\n",
    "    columns = ['Country name', 'Happiness score'],\n",
    "    key_on = 'feature.properties.name',\n",
    "    fill_color = 'YlOrBr', fill_opacity=0.6, line_opacity=0.1,\n",
    "    legend_name = \"Happiness score\").add_to(map)\n",
    "\n",
    "# Add Layer control to the map\n",
    "folium.LayerControl().add_to(map)\n",
    "\n",
    "# Save the map\n",
    "map.save(r'C:\\Users\\Ananya\\Documents\\World Happiness Report\\04 Analysis\\Visualizations\\happiness_score_map.html')"
   ]
  },
  {
   "cell_type": "markdown",
   "id": "756702f6",
   "metadata": {},
   "source": [
    "A choropleth map displays different countries that are colored in relation to a numeric variable. The darker the country, the higher the happiness score it represents, while lighter colors indicate countries with lower happiness scores."
   ]
  },
  {
   "cell_type": "markdown",
   "id": "3a90f801",
   "metadata": {},
   "source": [
    "# Question 8"
   ]
  },
  {
   "cell_type": "markdown",
   "id": "ad994934",
   "metadata": {},
   "source": [
    "The analysis of the choropleth map sheds light on the distribution of happiness scores across different countries, providing insights into global happiness trends and disparities.\n",
    "\n",
    "Answering Existing Research Question\n",
    "\n",
    "The choropleth map allows us to visually assess whether countries with higher GDP per capita exhibit higher happiness scores. If a clear pattern emerges where economically prosperous countries are associated with higher happiness scores, it would support the hypothesis that economic factors contribute to overall happiness levels.\n",
    "\n",
    "New Research Question\n",
    "\n",
    "How do recent events or crises impact happiness levels within affected countries?\n",
    "The analysis may inspire exploration into the impact of significant events, such as pandemics, economic recessions, or political upheavals, on the happiness levels of affected countries"
   ]
  },
  {
   "cell_type": "code",
   "execution_count": null,
   "id": "30a5db0b",
   "metadata": {},
   "outputs": [],
   "source": []
  }
 ],
 "metadata": {
  "kernelspec": {
   "display_name": "Python 3 (ipykernel)",
   "language": "python",
   "name": "python3"
  },
  "language_info": {
   "codemirror_mode": {
    "name": "ipython",
    "version": 3
   },
   "file_extension": ".py",
   "mimetype": "text/x-python",
   "name": "python",
   "nbconvert_exporter": "python",
   "pygments_lexer": "ipython3",
   "version": "3.11.5"
  }
 },
 "nbformat": 4,
 "nbformat_minor": 5
}
